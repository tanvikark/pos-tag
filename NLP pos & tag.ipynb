{
 "cells": [
  {
   "cell_type": "code",
   "execution_count": 1,
   "id": "88020332",
   "metadata": {},
   "outputs": [],
   "source": [
    "import spacy"
   ]
  },
  {
   "cell_type": "code",
   "execution_count": 2,
   "id": "cd6c36d4",
   "metadata": {},
   "outputs": [],
   "source": [
    "nlp = spacy.load('en_core_web_sm')"
   ]
  },
  {
   "cell_type": "code",
   "execution_count": 3,
   "id": "9a80d12b",
   "metadata": {},
   "outputs": [],
   "source": [
    "doc = nlp(\"The quick brown fox jumped over the lazy dog's back\")"
   ]
  },
  {
   "cell_type": "code",
   "execution_count": 5,
   "id": "8611d2e5",
   "metadata": {},
   "outputs": [
    {
     "name": "stdout",
     "output_type": "stream",
     "text": [
      "The quick brown fox jumped over the lazy dog's back\n"
     ]
    }
   ],
   "source": [
    "print(doc.text)"
   ]
  },
  {
   "cell_type": "code",
   "execution_count": 6,
   "id": "9cc0a2fc",
   "metadata": {},
   "outputs": [
    {
     "name": "stdout",
     "output_type": "stream",
     "text": [
      "VERB VBD verb, past tense\n"
     ]
    }
   ],
   "source": [
    "print(doc[4].pos_,doc[4].tag_,spacy.explain(doc[4].tag_))"
   ]
  },
  {
   "cell_type": "code",
   "execution_count": 8,
   "id": "86a42440",
   "metadata": {},
   "outputs": [
    {
     "name": "stdout",
     "output_type": "stream",
     "text": [
      "The        DET      DT     determiner\n",
      "quick      ADJ      JJ     adjective (English), other noun-modifier (Chinese)\n",
      "brown      ADJ      JJ     adjective (English), other noun-modifier (Chinese)\n",
      "fox        NOUN     NN     noun, singular or mass\n",
      "jumped     VERB     VBD    verb, past tense\n",
      "over       ADP      IN     conjunction, subordinating or preposition\n",
      "the        DET      DT     determiner\n",
      "lazy       ADJ      JJ     adjective (English), other noun-modifier (Chinese)\n",
      "dog        NOUN     NN     noun, singular or mass\n",
      "'s         PART     POS    possessive ending\n",
      "back       NOUN     NN     noun, singular or mass\n"
     ]
    }
   ],
   "source": [
    "for token in doc:\n",
    "    print(f'{token.text:{10}} {token.pos_:{8}} {token.tag_:{6}} {spacy.explain(token.tag_)}')"
   ]
  },
  {
   "cell_type": "code",
   "execution_count": 18,
   "id": "f95d4d72",
   "metadata": {},
   "outputs": [],
   "source": [
    "doc2= nlp('i read books on Nlp')"
   ]
  },
  {
   "cell_type": "code",
   "execution_count": 19,
   "id": "c687fff0",
   "metadata": {},
   "outputs": [],
   "source": [
    "doc3= nlp(\"i read a book on nlp\")"
   ]
  },
  {
   "cell_type": "code",
   "execution_count": 39,
   "id": "5a14cd5d",
   "metadata": {},
   "outputs": [],
   "source": [
    "#for single word\n",
    "r= doc[1]"
   ]
  },
  {
   "cell_type": "code",
   "execution_count": 40,
   "id": "037d3c1d",
   "metadata": {},
   "outputs": [
    {
     "name": "stdout",
     "output_type": "stream",
     "text": [
      "PROPN NNP noun, proper singular\n"
     ]
    }
   ],
   "source": [
    "print(doc2[4].pos_,doc2[4].tag_,spacy.explain(doc2[4].tag_))"
   ]
  },
  {
   "cell_type": "code",
   "execution_count": 36,
   "id": "b7029f9c",
   "metadata": {},
   "outputs": [
    {
     "name": "stdout",
     "output_type": "stream",
     "text": [
      "i          PRON   PRP  pronoun, personal\n",
      "read       VERB   VBP  verb, non-3rd person singular present\n",
      "books      NOUN   NNS  noun, plural\n",
      "on         ADP    IN   conjunction, subordinating or preposition\n",
      "Nlp        PROPN  NNP  noun, proper singular\n"
     ]
    }
   ],
   "source": [
    "#for alll word \n",
    "for token in doc2:\n",
    "    print(f'{token.text:{10}} {token.pos_:{6}} {token.tag_:{4}} {spacy.explain(token.tag_)}')"
   ]
  },
  {
   "cell_type": "code",
   "execution_count": 41,
   "id": "7f900644",
   "metadata": {},
   "outputs": [],
   "source": [
    "#count pos tags\n",
    "doc = nlp(\"The quick brown fox jumped over the lazy dog's back\")"
   ]
  },
  {
   "cell_type": "code",
   "execution_count": 45,
   "id": "286aeaea",
   "metadata": {},
   "outputs": [],
   "source": [
    "pos_count = doc.count_by(spacy.attrs.POS)"
   ]
  },
  {
   "cell_type": "code",
   "execution_count": 61,
   "id": "9ae99a1f",
   "metadata": {},
   "outputs": [
    {
     "data": {
      "text/plain": [
       "{90: 2, 84: 3, 92: 3, 100: 1, 85: 1, 94: 1}"
      ]
     },
     "execution_count": 61,
     "metadata": {},
     "output_type": "execute_result"
    }
   ],
   "source": [
    "pos_count"
   ]
  },
  {
   "cell_type": "code",
   "execution_count": 51,
   "id": "0dd63ce8",
   "metadata": {},
   "outputs": [
    {
     "data": {
      "text/plain": [
       "'DET'"
      ]
     },
     "execution_count": 51,
     "metadata": {},
     "output_type": "execute_result"
    }
   ],
   "source": [
    "doc.vocab[90].text"
   ]
  },
  {
   "cell_type": "code",
   "execution_count": 62,
   "id": "dbcd8a52",
   "metadata": {},
   "outputs": [
    {
     "name": "stdout",
     "output_type": "stream",
     "text": [
      "ADJ  :3\n",
      "ADP  :1\n",
      "DET  :2\n",
      "NOUN :3\n",
      "PART :1\n",
      "VERB :1\n"
     ]
    }
   ],
   "source": [
    "#count pos count and item\n",
    "for k,v in sorted(pos_count.items()):\n",
    "    print(f'{doc.vocab[k].text:{5}}:{v}')\n"
   ]
  },
  {
   "cell_type": "code",
   "execution_count": 65,
   "id": "949576dd",
   "metadata": {},
   "outputs": [
    {
     "name": "stdout",
     "output_type": "stream",
     "text": [
      "POS  :1\n",
      "IN   :1\n",
      "JJ   :3\n",
      "DT   :2\n",
      "NN   :3\n",
      "VBD  :1\n"
     ]
    }
   ],
   "source": [
    "#fine grained text\n",
    "TAG_count = doc.count_by(spacy.attrs.TAG)\n",
    "for k,v in sorted(TAG_count.items()):\n",
    "    print(f'{doc.vocab[k].text:{5}}:{v}')"
   ]
  },
  {
   "cell_type": "code",
   "execution_count": 68,
   "id": "7fccaed6",
   "metadata": {},
   "outputs": [
    {
     "name": "stdout",
     "output_type": "stream",
     "text": [
      "advmod:1\n",
      "amod :3\n",
      "det  :2\n",
      "nsubj:1\n",
      "pobj :1\n",
      "prep :1\n",
      "case :1\n",
      "ROOT :1\n"
     ]
    }
   ],
   "source": [
    "#count the diffrent dependecies\n",
    "DEP_count = doc.count_by(spacy.attrs.DEP)\n",
    "for k,v in sorted(DEP_count.items()):\n",
    "    print(f'{doc.vocab[k].text:{5}}:{v}')"
   ]
  },
  {
   "cell_type": "code",
   "execution_count": null,
   "id": "5e7e1d58",
   "metadata": {},
   "outputs": [],
   "source": []
  }
 ],
 "metadata": {
  "kernelspec": {
   "display_name": "Python 3 (ipykernel)",
   "language": "python",
   "name": "python3"
  },
  "language_info": {
   "codemirror_mode": {
    "name": "ipython",
    "version": 3
   },
   "file_extension": ".py",
   "mimetype": "text/x-python",
   "name": "python",
   "nbconvert_exporter": "python",
   "pygments_lexer": "ipython3",
   "version": "3.12.4"
  }
 },
 "nbformat": 4,
 "nbformat_minor": 5
}
